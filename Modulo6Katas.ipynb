{
 "cells": [
  {
   "cell_type": "markdown",
   "source": [
    "# Ejercicio1: Crear y usar listas de Python"
   ],
   "metadata": {}
  },
  {
   "cell_type": "code",
   "execution_count": 1,
   "source": [
    "# Creamos la lista planets y la mostramos\r\n",
    "planetas=['Mercury', 'Venus', 'Earth', 'Mars', 'Jupiter', 'Saturn', 'Uranus', 'Neptune']\r\n",
    "print(\"Numero de planetas: \",len(planetas))"
   ],
   "outputs": [
    {
     "output_type": "stream",
     "name": "stdout",
     "text": [
      "Numero de planetas:  8\n"
     ]
    }
   ],
   "metadata": {}
  },
  {
   "cell_type": "code",
   "execution_count": 2,
   "source": [
    "# Agregamos a plutón y mostramos el último elemento\r\n",
    "planetas.append('Plutón')\r\n",
    "print(f\"Numero de planetas: {len(planetas)}\")\r\n",
    "print(f\"Ultimo elemento: {planetas[-1]}\")"
   ],
   "outputs": [
    {
     "output_type": "stream",
     "name": "stdout",
     "text": [
      "Numero de planetas: 9\n",
      "Ultimo elemento: Plutón\n"
     ]
    }
   ],
   "metadata": {}
  },
  {
   "cell_type": "markdown",
   "source": [
    "# Ejercicio 2: Trabajando con datos de una lista"
   ],
   "metadata": {}
  },
  {
   "cell_type": "code",
   "execution_count": 3,
   "source": [
    "# Lista de planetas\r\n",
    "planets = ['Mercury', 'Venus', 'Earth', 'Mars', 'Jupiter', 'Saturn', 'Neptune']"
   ],
   "outputs": [],
   "metadata": {}
  },
  {
   "cell_type": "code",
   "execution_count": 4,
   "source": [
    "# Solicitamos el nombre de un planeta *Pista:  input()*\r\n",
    "entrada=input(\"Introduzca el nombre de un planeta (comenzando con mayuscula): \")"
   ],
   "outputs": [],
   "metadata": {}
  },
  {
   "cell_type": "code",
   "execution_count": 5,
   "source": [
    "# Busca el planeta en la lista\r\n",
    "ind=planets.index(entrada)"
   ],
   "outputs": [],
   "metadata": {}
  },
  {
   "cell_type": "code",
   "execution_count": 6,
   "source": [
    "# Muestra los planetas más cercanos al sol\r\n",
    "print(f\"Planetas mas cercanos que {entrada}: {planets[:ind]}\")"
   ],
   "outputs": [
    {
     "output_type": "stream",
     "name": "stdout",
     "text": [
      "Planetas mas cercanos que Mars: ['Mercury', 'Venus', 'Earth']\n"
     ]
    }
   ],
   "metadata": {}
  },
  {
   "cell_type": "code",
   "execution_count": 7,
   "source": [
    "# Muestra los planetas más lejanos al sol\r\n",
    "print(f\"Planetas mas lejanos que {entrada}: {planets[ind+1:]}\")"
   ],
   "outputs": [
    {
     "output_type": "stream",
     "name": "stdout",
     "text": [
      "Planetas mas lejanos que Mars: ['Jupiter', 'Saturn', 'Neptune']\n"
     ]
    }
   ],
   "metadata": {}
  }
 ],
 "metadata": {
  "orig_nbformat": 4,
  "language_info": {
   "name": "python",
   "version": "3.8.8",
   "mimetype": "text/x-python",
   "codemirror_mode": {
    "name": "ipython",
    "version": 3
   },
   "pygments_lexer": "ipython3",
   "nbconvert_exporter": "python",
   "file_extension": ".py"
  },
  "kernelspec": {
   "name": "python3",
   "display_name": "Python 3.8.8 64-bit ('base': conda)"
  },
  "interpreter": {
   "hash": "509b1c91b3477c1ac7b31136513ebb907a13ba0dbaa8b88058f8b79999d3ebef"
  }
 },
 "nbformat": 4,
 "nbformat_minor": 2
}