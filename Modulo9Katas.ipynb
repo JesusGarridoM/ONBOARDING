{
 "cells": [
  {
   "cell_type": "markdown",
   "metadata": {},
   "source": [
    "# Ejercicio 1: Trabajar con argumentos en funciones"
   ]
  },
  {
   "cell_type": "code",
   "execution_count": 1,
   "metadata": {},
   "outputs": [],
   "source": [
    "# Función para leer 3 tanques de combustible y muestre el promedio\n",
    "def fun01(t1,t2,t3):\n",
    "    prom=(t1+t2+t3)/3\n",
    "    res=f\"Promedio tanques: {prom:.4}% \\nTanque 01: {t1}% \\nTanque 02: {t2}% \\nTanque 03: {t3}%\"\n",
    "    return res"
   ]
  },
  {
   "cell_type": "code",
   "execution_count": 2,
   "metadata": {},
   "outputs": [
    {
     "name": "stdout",
     "output_type": "stream",
     "text": [
      "Promedio tanques: 78.33% \n",
      "Tanque 01: 80% \n",
      "Tanque 02: 70% \n",
      "Tanque 03: 85%\n"
     ]
    }
   ],
   "source": [
    "# Llamamos a la función que genera el reporte print(funcion(tanque1, tanque2, tanque3))\n",
    "print(fun01(80, 70, 85))"
   ]
  },
  {
   "cell_type": "code",
   "execution_count": 3,
   "metadata": {},
   "outputs": [
    {
     "name": "stdout",
     "output_type": "stream",
     "text": [
      "82.0\n"
     ]
    }
   ],
   "source": [
    "# Función promedio \n",
    "def fun02(*nums):\n",
    "    res=sum(nums)/len(nums)\n",
    "    return res\n",
    "\n",
    "print(fun02(80,85,81) )"
   ]
  },
  {
   "cell_type": "code",
   "execution_count": 4,
   "metadata": {},
   "outputs": [
    {
     "name": "stdout",
     "output_type": "stream",
     "text": [
      "Promedio tanques: 78.0% \n",
      "Tanque 01: 88% \n",
      "Tanque 02: 76% \n",
      "Tanque 03: 70%\n"
     ]
    }
   ],
   "source": [
    "# Actualiza la función\n",
    "def fun03(*nums):\n",
    "    prom=fun02(*nums)\n",
    "    res=f\"Promedio tanques: {prom:.4}% \\nTanque 01: {nums[0]}% \\nTanque 02: {nums[1]}% \\nTanque 03: {nums[2]}%\"\n",
    "    return res\n",
    "\n",
    "print(fun03(88, 76, 70))"
   ]
  },
  {
   "cell_type": "markdown",
   "metadata": {},
   "source": [
    "# Ejercicio 2: Trabajo con argumentos de palabra clave"
   ]
  },
  {
   "cell_type": "code",
   "execution_count": 5,
   "metadata": {},
   "outputs": [
    {
     "name": "stdout",
     "output_type": "stream",
     "text": [
      "Destino: Moon    \n",
      "Tiempo hasta el destino: 65 minutos    \n",
      "Conbustible restante: 500000 galones\n"
     ]
    }
   ],
   "source": [
    "# Función con un informe preciso de la misión. \n",
    "# Considera hora de prelanzamiento, tiempo de vuelo, destino, tanque externo y tanque interno\n",
    "def informe01(pre,tv,des,te,ti):\n",
    "    res=f\"Destino: {des}\\\n",
    "    \\nTiempo hasta el destino: {pre+tv} minutos\\\n",
    "    \\nConbustible restante: {te+ti} galones\"\n",
    "    return res\n",
    "\n",
    "print(informe01(14, 51, \"Moon\", 200000, 300000))"
   ]
  },
  {
   "cell_type": "code",
   "execution_count": 6,
   "metadata": {},
   "outputs": [
    {
     "name": "stdout",
     "output_type": "stream",
     "text": [
      "Destino: Moon         \n",
      "Tiempo hasta el destino: 74 minutos        \n",
      "Conbustible restante: 500000 galones\n"
     ]
    }
   ],
   "source": [
    "# Escribe tu nueva función de reporte considerando lo anterior\n",
    "def informe02(des,*minutes,**fuel_reservoirs):\n",
    "    res=f\"Destino: {des} \\\n",
    "        \\nTiempo hasta el destino: {sum(minutes)} minutos\\\n",
    "        \\nConbustible restante: {sum(fuel_reservoirs.values())} galones\"\n",
    "    return res\n",
    "\n",
    "print(informe02(\"Moon\", 8, 11, 55, main=300000, external=200000))"
   ]
  },
  {
   "cell_type": "code",
   "execution_count": 8,
   "metadata": {},
   "outputs": [
    {
     "name": "stdout",
     "output_type": "stream",
     "text": [
      "Destino: Moon    \n",
      "Tiempo hasta el destino: 74 minutos    \n",
      "Conbustible restante: 500000 galones\n",
      "Tanque main: 300000 galones\n",
      "Tanque external: 200000 galones\n"
     ]
    }
   ],
   "source": [
    "# Escribe tu nueva función\n",
    "def informe02(des,*minutes,**fuel_reservoirs):\n",
    "    res=f\"Destino: {des}\\\n",
    "    \\nTiempo hasta el destino: {sum(minutes)} minutos\\\n",
    "    \\nConbustible restante: {sum(fuel_reservoirs.values())} galones\"\n",
    "    # print(fuel_reservoirs.items())\n",
    "    for nombre,valor in fuel_reservoirs.items():\n",
    "        res+=f\"\\nTanque {nombre}: {valor} galones\"\n",
    "    return res\n",
    "\n",
    "print(informe02(\"Moon\", 8, 11, 55, main=300000, external=200000))"
   ]
  }
 ],
 "metadata": {
  "interpreter": {
   "hash": "509b1c91b3477c1ac7b31136513ebb907a13ba0dbaa8b88058f8b79999d3ebef"
  },
  "kernelspec": {
   "display_name": "Python 3.8.8 64-bit ('base': conda)",
   "name": "python3"
  },
  "language_info": {
   "codemirror_mode": {
    "name": "ipython",
    "version": 3
   },
   "file_extension": ".py",
   "mimetype": "text/x-python",
   "name": "python",
   "nbconvert_exporter": "python",
   "pygments_lexer": "ipython3",
   "version": "3.8.8"
  },
  "orig_nbformat": 4
 },
 "nbformat": 4,
 "nbformat_minor": 2
}
