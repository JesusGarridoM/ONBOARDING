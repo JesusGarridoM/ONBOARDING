{
 "cells": [
  {
   "cell_type": "markdown",
   "source": [
    "# Ejercicio 1: Transformar cadenas"
   ],
   "metadata": {}
  },
  {
   "cell_type": "code",
   "execution_count": 1,
   "source": [
    "text = \"\"\"Interesting facts about the Moon. The Moon is Earth's only satellite. There are several interesting facts about the Moon and how it affects life here on Earth. \r\n",
    "On average, the Moon moves 4cm away from the Earth every year. This yearly drift is not significant enough to cause immediate effects on Earth. The highest daylight temperature of the Moon is 127 C.\"\"\""
   ],
   "outputs": [],
   "metadata": {}
  },
  {
   "cell_type": "code",
   "execution_count": 2,
   "source": [
    "# Divide el texto\r\n",
    "textList=text.split('. ')"
   ],
   "outputs": [],
   "metadata": {}
  },
  {
   "cell_type": "code",
   "execution_count": 3,
   "source": [
    "# Palabras clave\r\n",
    "pistas=[\"average\",\"temperature\",\"distance\"]"
   ],
   "outputs": [],
   "metadata": {}
  },
  {
   "cell_type": "code",
   "execution_count": 4,
   "source": [
    "# Ciclo for para recorrer la cadena\r\n",
    "for oracion in textList:\r\n",
    "    for pista in pistas:\r\n",
    "        if pista in oracion:\r\n",
    "            print(oracion)\r\n",
    "            break\r\n"
   ],
   "outputs": [
    {
     "output_type": "stream",
     "name": "stdout",
     "text": [
      "\n",
      "On average, the Moon moves 4cm away from the Earth every year\n",
      "The highest daylight temperature of the Moon is 127 C.\n"
     ]
    }
   ],
   "metadata": {}
  },
  {
   "cell_type": "code",
   "execution_count": 5,
   "source": [
    "# Ciclo para cambiar C a Celsius\r\n",
    "for oracion in textList:\r\n",
    "    for pista in pistas:\r\n",
    "        if pista in oracion:\r\n",
    "            print(oracion.replace(' C', ' Celsius'))\r\n",
    "            break"
   ],
   "outputs": [
    {
     "output_type": "stream",
     "name": "stdout",
     "text": [
      "\n",
      "On average, the Moon moves 4cm away from the Earth every year\n",
      "The highest daylight temperature of the Moon is 127 Celsius.\n"
     ]
    }
   ],
   "metadata": {}
  },
  {
   "cell_type": "markdown",
   "source": [
    "# Ejercicio 2: Formateando Cadenas"
   ],
   "metadata": {}
  },
  {
   "cell_type": "code",
   "execution_count": 6,
   "source": [
    "# Datos con los que vamos a trabajar\r\n",
    "name = \"Moon\"\r\n",
    "gravity = 0.00162 # in kms\r\n",
    "planet = \"Earth\""
   ],
   "outputs": [],
   "metadata": {}
  },
  {
   "cell_type": "code",
   "execution_count": 7,
   "source": [
    "# Creamos el título\r\n",
    "titulo=\"Gravity Facts about \" + name"
   ],
   "outputs": [],
   "metadata": {}
  },
  {
   "cell_type": "code",
   "execution_count": 8,
   "source": [
    "# Creamos la plantilla\r\n",
    "line01=\"-\"*80\r\n",
    "line02=\"Planet Name: \" + planet\r\n",
    "gravityMet=gravity*1000\r\n",
    "line03=\"Gravity on \" + name + \": \" + str(gravityMet) + \" m/s2\""
   ],
   "outputs": [],
   "metadata": {}
  },
  {
   "cell_type": "code",
   "execution_count": 9,
   "source": [
    "# Unión de ambas cadenas\r\n",
    "plantilla=[titulo,line01,line02,line03]\r\n",
    "plantilla=\"\\n\".join(plantilla)\r\n",
    "print(plantilla)"
   ],
   "outputs": [
    {
     "output_type": "stream",
     "name": "stdout",
     "text": [
      "Gravity Facts about Moon\n",
      "--------------------------------------------------------------------------------\n",
      "Planet Name: Earth\n",
      "Gravity on Moon: 1.6199999999999999 m/s2\n"
     ]
    }
   ],
   "metadata": {}
  },
  {
   "cell_type": "code",
   "execution_count": 10,
   "source": [
    "# Nuevos datos muestra\r\n",
    "name = \"Ganímedes\"\r\n",
    "gravity = 0.00143 # in kms\r\n",
    "planet = \"Marte \""
   ],
   "outputs": [],
   "metadata": {}
  },
  {
   "cell_type": "code",
   "execution_count": 11,
   "source": [
    "# Comprobamos la plantilla\r\n",
    "print(plantilla)"
   ],
   "outputs": [
    {
     "output_type": "stream",
     "name": "stdout",
     "text": [
      "Gravity Facts about Moon\n",
      "--------------------------------------------------------------------------------\n",
      "Planet Name: Earth\n",
      "Gravity on Moon: 1.6199999999999999 m/s2\n"
     ]
    }
   ],
   "metadata": {}
  },
  {
   "cell_type": "code",
   "execution_count": 12,
   "source": [
    "# Nueva plantilla\r\n",
    "new_template = \"\"\"\r\n",
    "Gravity Facts about : {name}\r\n",
    "-------------------------------------------------------------------------------\r\n",
    "Planet Name: {planet}\r\n",
    "Gravity on {name}: {gravity} m/s2\r\n",
    "\"\"\"\r\n",
    "print(new_template.format(name=name, planet=planet, gravity=gravity))"
   ],
   "outputs": [
    {
     "output_type": "stream",
     "name": "stdout",
     "text": [
      "\n",
      "Gravity Facts about : Ganímedes\n",
      "-------------------------------------------------------------------------------\n",
      "Planet Name: Marte \n",
      "Gravity on Ganímedes: 0.00143 m/s2\n",
      "\n"
     ]
    }
   ],
   "metadata": {}
  },
  {
   "cell_type": "code",
   "execution_count": 13,
   "source": [
    "# Pista: print(nueva_plantilla.format(variables))\r\n",
    "print(new_template.format(name=name, planet=planet, gravity=gravity*1000))"
   ],
   "outputs": [
    {
     "output_type": "stream",
     "name": "stdout",
     "text": [
      "\n",
      "Gravity Facts about : Ganímedes\n",
      "-------------------------------------------------------------------------------\n",
      "Planet Name: Marte \n",
      "Gravity on Ganímedes: 1.4300000000000002 m/s2\n",
      "\n"
     ]
    }
   ],
   "metadata": {}
  }
 ],
 "metadata": {
  "interpreter": {
   "hash": "509b1c91b3477c1ac7b31136513ebb907a13ba0dbaa8b88058f8b79999d3ebef"
  },
  "kernelspec": {
   "name": "python3",
   "display_name": "Python 3.8.8 64-bit ('base': conda)"
  },
  "language_info": {
   "codemirror_mode": {
    "name": "ipython",
    "version": 3
   },
   "file_extension": ".py",
   "mimetype": "text/x-python",
   "name": "python",
   "nbconvert_exporter": "python",
   "pygments_lexer": "ipython3",
   "version": "3.8.8"
  },
  "orig_nbformat": 4
 },
 "nbformat": 4,
 "nbformat_minor": 2
}