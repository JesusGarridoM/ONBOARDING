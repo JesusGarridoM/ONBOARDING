{
 "cells": [
  {
   "cell_type": "code",
   "execution_count": 1,
   "metadata": {},
   "outputs": [],
   "source": [
    "# Crear variables para almacenar las dos distancias\n",
    "# ¡Asegúrate de quitar las comas!\n",
    "var1=int(input(\"Distancia del 1er planeta: \"))\n",
    "var2=int(input(\"Distancia del 2do planeta: \"))"
   ]
  },
  {
   "cell_type": "code",
   "execution_count": 2,
   "metadata": {},
   "outputs": [
    {
     "name": "stdout",
     "output_type": "stream",
     "text": [
      "Distancia: 629000000 Km\n",
      "Distancia: 390609000 millas\n"
     ]
    }
   ],
   "source": [
    "# Calcular la distancia entre planetas\n",
    "# Realizar el cálculo y determinar el valor absoluto\n",
    "dist=abs(var2-var1)\n",
    "print(f\"Distancia: {dist} Km\")\n",
    "\n",
    "# Convertir de KM a Millas\n",
    "print(f\"Distancia: {round(dist*0.621)} millas\")"
   ]
  }
 ],
 "metadata": {
  "interpreter": {
   "hash": "509b1c91b3477c1ac7b31136513ebb907a13ba0dbaa8b88058f8b79999d3ebef"
  },
  "kernelspec": {
   "display_name": "Python 3.8.8 64-bit ('base': conda)",
   "name": "python3"
  },
  "language_info": {
   "codemirror_mode": {
    "name": "ipython",
    "version": 3
   },
   "file_extension": ".py",
   "mimetype": "text/x-python",
   "name": "python",
   "nbconvert_exporter": "python",
   "pygments_lexer": "ipython3",
   "version": "3.8.8"
  },
  "orig_nbformat": 4
 },
 "nbformat": 4,
 "nbformat_minor": 2
}
