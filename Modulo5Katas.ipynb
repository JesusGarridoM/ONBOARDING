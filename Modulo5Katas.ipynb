{
 "cells": [
  {
   "cell_type": "code",
   "execution_count": 1,
   "source": [
    "# Crear variables para almacenar las dos distancias\r\n",
    "# ¡Asegúrate de quitar las comas!\r\n",
    "var1=int(input(\"Distancia del 1er planeta: \"))\r\n",
    "var2=int(input(\"Distancia del 2do planeta: \"))"
   ],
   "outputs": [],
   "metadata": {}
  },
  {
   "cell_type": "code",
   "execution_count": 2,
   "source": [
    "# Calcular la distancia entre planetas\r\n",
    "# Realizar el cálculo y determinar el valor absoluto\r\n",
    "dist=abs(var2-var1)\r\n",
    "print(f\"Distancia: {dist} Km\")\r\n",
    "\r\n",
    "# Convertir de KM a Millas\r\n",
    "print(f\"Distancia: {round(dist*0.621)} millas\")"
   ],
   "outputs": [
    {
     "output_type": "stream",
     "name": "stdout",
     "text": [
      "Distancia: 629000000 Km\n",
      "Distancia: 390609000 millas\n"
     ]
    }
   ],
   "metadata": {}
  }
 ],
 "metadata": {
  "orig_nbformat": 4,
  "language_info": {
   "name": "python",
   "version": "3.8.8",
   "mimetype": "text/x-python",
   "codemirror_mode": {
    "name": "ipython",
    "version": 3
   },
   "pygments_lexer": "ipython3",
   "nbconvert_exporter": "python",
   "file_extension": ".py"
  },
  "kernelspec": {
   "name": "python3",
   "display_name": "Python 3.8.8 64-bit ('base': conda)"
  },
  "interpreter": {
   "hash": "509b1c91b3477c1ac7b31136513ebb907a13ba0dbaa8b88058f8b79999d3ebef"
  }
 },
 "nbformat": 4,
 "nbformat_minor": 2
}