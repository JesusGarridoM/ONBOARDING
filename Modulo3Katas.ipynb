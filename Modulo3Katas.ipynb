{
 "cells": [
  {
   "cell_type": "markdown",
   "metadata": {},
   "source": [
    "# Ejercicio - Escribir declaraciones if, else, y elif"
   ]
  },
  {
   "cell_type": "markdown",
   "metadata": {},
   "source": [
    "## Advertencia"
   ]
  },
  {
   "cell_type": "code",
   "execution_count": 1,
   "metadata": {},
   "outputs": [
    {
     "name": "stdout",
     "output_type": "stream",
     "text": [
      "ALERTA: Un asteroide se acerca demasiado rapido\n"
     ]
    }
   ],
   "source": [
    "velocidad=49\n",
    "if velocidad>25:\n",
    "    print(\"ALERTA: Un asteroide se acerca demasiado rapido\")\n",
    "else:\n",
    "    print(\"No hay peligro de asteroides\")"
   ]
  },
  {
   "cell_type": "markdown",
   "metadata": {},
   "source": [
    "## Rayo"
   ]
  },
  {
   "cell_type": "code",
   "execution_count": 2,
   "metadata": {},
   "outputs": [
    {
     "name": "stdout",
     "output_type": "stream",
     "text": [
      "No hay nada que ver\n"
     ]
    }
   ],
   "source": [
    "velocidad=19\n",
    "if velocidad>20:\n",
    "    print(\"Un asteroide producira un rayo en el cielo\")\n",
    "else:\n",
    "    print(\"No hay nada que ver\")"
   ]
  },
  {
   "cell_type": "markdown",
   "metadata": {},
   "source": [
    "# Ejercicio: Uso de operadores and y or"
   ]
  },
  {
   "cell_type": "code",
   "execution_count": 3,
   "metadata": {},
   "outputs": [
    {
     "name": "stdout",
     "output_type": "stream",
     "text": [
      "Un asteroide producira un rayo en el cielo\n"
     ]
    }
   ],
   "source": [
    "velocidad=25\n",
    "tamanio=40\n",
    "\n",
    "if tamanio>25 and velocidad>25:\n",
    "    print(\"ALERTA: Un asteroide se acerca demasiado rapido\")\n",
    "if velocidad>=20:\n",
    "    print(\"Un asteroide producira un rayo en el cielo\")\n",
    "else:\n",
    "    print(\"No hay amenaza\")"
   ]
  }
 ],
 "metadata": {
  "interpreter": {
   "hash": "1fcbaee2cafa580ab5dce3a65b74586501d5a0ba5294074333e81ae22030224a"
  },
  "kernelspec": {
   "display_name": "Python 3.8.3 ('base')",
   "language": "python",
   "name": "python3"
  },
  "language_info": {
   "codemirror_mode": {
    "name": "ipython",
    "version": 3
   },
   "file_extension": ".py",
   "mimetype": "text/x-python",
   "name": "python",
   "nbconvert_exporter": "python",
   "pygments_lexer": "ipython3",
   "version": "3.8.8"
  },
  "orig_nbformat": 4
 },
 "nbformat": 4,
 "nbformat_minor": 2
}
